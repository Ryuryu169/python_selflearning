{
  "nbformat": 4,
  "nbformat_minor": 0,
  "metadata": {
    "colab": {
      "provenance": [],
      "authorship_tag": "ABX9TyP94kxDCbucMxzcx7tR3AM7",
      "include_colab_link": true
    },
    "kernelspec": {
      "name": "python3",
      "display_name": "Python 3"
    },
    "language_info": {
      "name": "python"
    }
  },
  "cells": [
    {
      "cell_type": "markdown",
      "metadata": {
        "id": "view-in-github",
        "colab_type": "text"
      },
      "source": [
        "<a href=\"https://colab.research.google.com/github/Ryuryu169/python_selflearning/blob/main/encrypt.ipynb\" target=\"_parent\"><img src=\"https://colab.research.google.com/assets/colab-badge.svg\" alt=\"Open In Colab\"/></a>"
      ]
    },
    {
      "cell_type": "markdown",
      "source": [
        "RSA メモ\n",
        "\n",
        "RSA の仕組み\n",
        "\n",
        "公開鍵と秘密鍵の事前準備\n",
        "1. 任意の素数を二つ p, q を定める\n",
        "2. n = p × q とする\n",
        "3. (p-1) * (q-1) と互いに素な数 e を任意に定める\n",
        "4. e * d / n の余りが 1 となるような d を定める\n",
        "\n",
        "* ここで、n と e が公開鍵、d は秘密鍵になる\n",
        "\n",
        "* e はランダムな数値を出力し、ユークリッド法で余りが 1 のものを求める\n",
        "\n",
        "* d は拡張ユークリッド法を用いることで求める事ができる\n",
        "\n",
        "* 拡張ユークリッド法は ax + by = r となるような x と y を算出するために使う\n",
        "\n",
        "暗号化\n",
        "\n",
        "1. 送りたいメッセージ x に e 乗する\n",
        "2. これを n で割った時の余りが暗号文になる\n",
        "\n",
        "複号化\n",
        "\n",
        "1. 暗号化されたメッセージ y に d 乗する\n",
        "2. これを n で割った時の余りが元の文になる"
      ],
      "metadata": {
        "id": "Zhqa8McSmwsK"
      }
    },
    {
      "cell_type": "code",
      "execution_count": null,
      "metadata": {
        "colab": {
          "base_uri": "https://localhost:8080/"
        },
        "id": "gUct-f1WhdLo",
        "outputId": "22693c38-75ce-4d06-ed3c-f0b997beece1"
      },
      "outputs": [
        {
          "output_type": "stream",
          "name": "stdout",
          "text": [
            "91\n",
            "83\n",
            "2383\n",
            "290\n"
          ]
        }
      ],
      "source": [
        "import random\n",
        "\n",
        "p=int(input(\"Enter random number\"))\n",
        "q=int(input())\n",
        "\n",
        "class rsa:\n",
        "  def __init__(self,p,q):\n",
        "    self.p = p\n",
        "    self.q = q\n",
        "    self.num = p * q\n",
        "    self.less = (p-1) * (q-1)\n",
        "    self.encryptKey = self.chooseE()\n",
        "    self.decryptKey = self.remainOne()\n",
        "\n",
        "  def checkGCM(self,i,j):\n",
        "    remain = i % j\n",
        "    while remain != 0:\n",
        "      i = remain\n",
        "      remain = j % i\n",
        "      j = i\n",
        "\n",
        "    return j\n",
        "\n",
        "  def chooseE(self):\n",
        "    remain = 0\n",
        "    while remain != 1:\n",
        "      encryptKey = random.randint(1,self.less)\n",
        "      remain = self.checkGCM(self.less,encryptKey)\n",
        "    return encryptKey #e\n",
        "\n",
        "  def extgcd(self, a, b):\n",
        "    if b:\n",
        "      d, y, x = self.extgcd(b, a % b)\n",
        "      y -= (a // b)*x\n",
        "      return d, x, y\n",
        "    return a, 1, 0\n",
        "\n",
        "  def remainOne(self):\n",
        "    remain, random, key = self.extgcd(self.less,self.encryptKey)\n",
        "    if key < 0:\n",
        "      key += self.less\n",
        "    return key #d\n",
        "\n",
        "  def returnRemain(self,a,b,n):\n",
        "    tmp = 1\n",
        "    for i in range(b):\n",
        "      tmp = (a * tmp) % n\n",
        "    return tmp\n",
        "\n",
        "  def encrypt(self,msg):\n",
        "    self.decryptKey = self.remainOne()\n",
        "    encryptMsg = self.returnRemain(msg,self.encryptKey,self.num)\n",
        "    print(encryptMsg)\n",
        "    return encryptMsg\n",
        "\n",
        "  def decrypt(self,encryptMsg):\n",
        "    plainMessage = self.returnRemain(encryptMsg,self.decryptKey,self.num)\n",
        "    return plainMessage\n",
        "\n",
        "obj = rsa(p,q)\n",
        "cypher = obj.encrypt()\n",
        "msg = obj.decrypt(cypher)\n",
        "print(msg)"
      ]
    },
    {
      "cell_type": "markdown",
      "source": [
        "DH 法メモ\n",
        "\n",
        "DH 法の仕組み\n",
        "\n",
        "一連の処理\n",
        "1. RSA などによって秘密鍵と任意の二つの数、素数 p と p > g となる自然数 g を用意する\n",
        "2. p, g をそれぞれのユーザに送信\n",
        "3. g を 秘密鍵で乗じて、p で余りを求める。\n",
        "4. 3.で生成した余りを互いに交換する\n",
        "5. 受け取った余りを秘密鍵で乗じて、pで余りを求める\n",
        "6. 5.の余りが共通鍵になる。\n",
        "\n",
        "実装方法\n",
        "1. rsa 暗号をそれぞれで作る\n",
        "2. p, g をクラス内で作成(0の時は作成、1の時は参照)\n",
        "3. 互いに交換して確認\n",
        "\n",
        "素数生成\n",
        "1. ウィルソンの公式を用いて求める\n",
        "2. g(n)≡2(n!) mod (n+1)かつ0≦g(n)≦nを満たすような数を求める\n",
        "3. f(n) = g(n) + 2としたとき、素数となる"
      ],
      "metadata": {
        "id": "fSCneQffTwi9"
      }
    },
    {
      "cell_type": "code",
      "source": [
        "import random\n",
        "import math\n",
        "\n",
        "p1=int(input(\"Enter your public key1 : \"))\n",
        "p2=int(input(\"Enter your public key2 : \"))\n",
        "\n",
        "class dh:\n",
        "  def __init__(self,mode,p,g,key):\n",
        "    if mode == 0:\n",
        "      self.p, self.g = self.generate()\n",
        "      self.key = key\n",
        "    else:\n",
        "      self.p = p\n",
        "      self.g = g\n",
        "      self.key = key\n",
        "\n",
        "  def generate(self):\n",
        "    while True:\n",
        "      n = random.randint(1,100)\n",
        "      if n % 2 == 1:\n",
        "        break\n",
        "\n",
        "    for i in range(n):\n",
        "      tmp = 2 * math.factorial(n)\n",
        "      if tmp % (n+1) == n:\n",
        "        break\n",
        "\n",
        "    return n, random.randint(1,n)\n",
        "\n",
        "  def remainder(self,p,g,key):\n",
        "    tmp = 1\n",
        "    for i in range(key):\n",
        "      tmp = (g * tmp) % p\n",
        "    return tmp\n",
        "\n",
        "def checkGCM(i,j):\n",
        "    remain = i % j\n",
        "    while remain != 0:\n",
        "      i = remain\n",
        "      remain = j % i\n",
        "      j = i\n",
        "\n",
        "    return j\n",
        "\n",
        "dh1 = dh(0,0,0,p1)\n",
        "dh2 = dh(1,dh1.p,dh1.g,p2)\n",
        "\n",
        "send1 = dh1.remainder(dh1.p,dh1.g,dh1.key)\n",
        "send2 = dh2.remainder(dh2.p,dh2.g,dh2.key)\n",
        "\n",
        "message1 = dh1.remainder(dh1.p,send2,dh1.key)\n",
        "message2 = dh2.remainder(dh2.p,send1,dh2.key)\n",
        "\n",
        "print(send1,send2)\n",
        "print(message1,message2)"
      ],
      "metadata": {
        "colab": {
          "base_uri": "https://localhost:8080/"
        },
        "id": "jO8jvVKdjEPP",
        "outputId": "dff83899-5678-40a2-cc68-53d930e84877"
      },
      "execution_count": null,
      "outputs": [
        {
          "output_type": "stream",
          "name": "stdout",
          "text": [
            "9\n",
            "7\n",
            "6 16\n",
            "11 11\n"
          ]
        }
      ]
    },
    {
      "cell_type": "markdown",
      "source": [],
      "metadata": {
        "id": "3THRRp0VlaV-"
      }
    }
  ]
}